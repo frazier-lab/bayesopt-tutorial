{
 "cells": [
  {
   "cell_type": "markdown",
   "metadata": {},
   "source": [
    "## Lab 3 SOLUTION: Expected Improvement in BoTorch\n",
    "\n",
    "Based on https://botorch.org/tutorials/compare_mc_analytic_acquisition"
   ]
  },
  {
   "cell_type": "code",
   "execution_count": 1,
   "metadata": {},
   "outputs": [],
   "source": [
    "import torch\n",
    "\n",
    "from botorch.fit import fit_gpytorch_model\n",
    "from botorch.models import SingleTaskGP\n",
    "from gpytorch.mlls import ExactMarginalLogLikelihood\n",
    "from gpytorch.likelihoods import FixedNoiseGaussianLikelihood\n",
    "\n",
    "import math\n",
    "import numpy as np\n",
    "import matplotlib.pyplot as plt\n",
    "\n",
    "# use a GPU if available\n",
    "device = torch.device(\"cuda\" if torch.cuda.is_available() else \"cpu\")\n",
    "dtype = torch.double\n",
    "\n",
    "# Hartmann is a standard test function that has a 6 dimensional input.\n",
    "# We will work on maximizing -1 times the value of this function.\n",
    "from botorch.test_functions import Hartmann\n",
    "neg_hartmann6 = Hartmann(negate=True)\n",
    "\n",
    "# We will work with our simple 1-dimensional example, to support visualization\n",
    "def objective(x):\n",
    "    return torch.sin(x * (2 * math.pi))"
   ]
  },
  {
   "cell_type": "markdown",
   "metadata": {},
   "source": [
    "First, we generate some random data and fit a SingleTaskGP for a 6-dimensional synthetic test function 'Hartmann6'."
   ]
  },
  {
   "cell_type": "code",
   "execution_count": 2,
   "metadata": {},
   "outputs": [
    {
     "data": {
      "text/plain": [
       "ExactMarginalLogLikelihood(\n",
       "  (likelihood): FixedNoiseGaussianLikelihood(\n",
       "    (noise_covar): FixedGaussianNoise()\n",
       "  )\n",
       "  (model): SingleTaskGP(\n",
       "    (likelihood): FixedNoiseGaussianLikelihood(\n",
       "      (noise_covar): FixedGaussianNoise()\n",
       "    )\n",
       "    (mean_module): ConstantMean()\n",
       "    (covar_module): ScaleKernel(\n",
       "      (base_kernel): MaternKernel(\n",
       "        (lengthscale_prior): GammaPrior()\n",
       "        (raw_lengthscale_constraint): Positive()\n",
       "        (distance_module): Distance()\n",
       "      )\n",
       "      (outputscale_prior): GammaPrior()\n",
       "      (raw_outputscale_constraint): Positive()\n",
       "    )\n",
       "  )\n",
       ")"
      ]
     },
     "execution_count": 2,
     "metadata": {},
     "output_type": "execute_result"
    }
   ],
   "source": [
    "np.random.seed(0)\n",
    "train_x = torch.rand(3, 1)\n",
    "train_y = objective(train_x)\n",
    "noises = torch.ones(len(train_y)) * 0.0001\n",
    "\n",
    "model = SingleTaskGP(train_x, train_y, likelihood = FixedNoiseGaussianLikelihood(noise=noises))\n",
    "\n",
    "# This optimizes the parameters of the model\n",
    "mll = ExactMarginalLogLikelihood(model.likelihood, model)\n",
    "fit_gpytorch_model(mll)"
   ]
  },
  {
   "cell_type": "code",
   "execution_count": 3,
   "metadata": {},
   "outputs": [
    {
     "name": "stderr",
     "output_type": "stream",
     "text": [
      "/usr/local/anaconda3/lib/python3.7/site-packages/gpytorch/lazy/lazy_tensor.py:1810: UserWarning: torch.triangular_solve is deprecated in favor of torch.linalg.solve_triangularand will be removed in a future PyTorch release.\n",
      "torch.linalg.solve_triangular has its arguments reversed and does not return a copy of one of the inputs.\n",
      "X = torch.triangular_solve(B, A).solution\n",
      "should be replaced with\n",
      "X = torch.linalg.solve_triangular(A, B). (Triggered internally at  /Users/runner/work/_temp/anaconda/conda-bld/pytorch_1656352443756/work/aten/src/ATen/native/BatchLinearAlgebra.cpp:2189.)\n",
      "  Linv = torch.triangular_solve(Eye, L, upper=False).solution\n"
     ]
    },
    {
     "data": {
      "text/plain": [
       "<matplotlib.legend.Legend at 0x7fdaa0802f10>"
      ]
     },
     "execution_count": 3,
     "metadata": {},
     "output_type": "execute_result"
    },
    {
     "data": {
      "image/png": "[encoded data removed]",
      "text/plain": [
       "<Figure size 432x288 with 1 Axes>"
      ]
     },
     "metadata": {
      "needs_background": "light"
     },
     "output_type": "display_data"
    }
   ],
   "source": [
    "# It's always a good idea to plot the fit.\n",
    "# Here's a way to plot that pulls out the mean and variance as \n",
    "# numpy arrays, if you are more comfortable working with     \n",
    "\n",
    "# Initialize plot\n",
    "f, ax = plt.subplots(1, 1, figsize=(6, 4))\n",
    "# test model on 101 regular spaced points on the interval [0, 1]\n",
    "test_x = torch.linspace(0, 1, 101, dtype=torch.float, device=device)\n",
    "# no need for gradients\n",
    "with torch.no_grad():\n",
    "    # compute posterior\n",
    "    posterior = model.posterior(test_x)\n",
    "    # Get upper and lower confidence bounds (2 standard deviations from the mean)\n",
    "    lower, upper = posterior.mvn.confidence_region()\n",
    "    # Plot training points as black stars\n",
    "    ax.plot(train_x.cpu().numpy(), train_y.cpu().numpy(), 'k*')\n",
    "    # Plot posterior means as blue line\n",
    "    ax.plot(test_x.cpu().numpy(), posterior.mean.cpu().numpy(), 'b')\n",
    "    # Shade between the lower and upper confidence bounds\n",
    "    ax.fill_between(test_x.cpu().numpy(), lower.cpu().numpy(), upper.cpu().numpy(), alpha=0.5)\n",
    "ax.legend(['Observed Data', 'Mean', 'Confidence'])"
   ]
  },
  {
   "cell_type": "markdown",
   "metadata": {},
   "source": [
    "#### Exercise 1\n",
    "\n",
    "Write a function that calculates the expected improvement given the posterior mean (m), posterior variance (v),\n",
    "and the value of the best point observed (best_y), for settings where we are maximizing.\n",
    "You can use equation (8) on page 7 of the tutorial article, which also appears in the slides.\n",
    "\n",
    "Your code may need to handle very small variances as a special case to avoid dividing by 0.\n",
    "The EI for a variance of 0 is max(0,m-best_y).  You may also need to handle small negative variances \n",
    "--- treat them as 0.\n",
    "\n",
    "You can use `scipy.stats.norm.pdf` and `scipy.stats.norm.cdf`"
   ]
  },
  {
   "cell_type": "code",
   "execution_count": null,
   "metadata": {},
   "outputs": [],
   "source": [
    "import scipy.stats\n",
    "\n",
    "def EI(m,v,best_y):\n",
    "    ### FILL IN YOUR CODE HERE"
   ]
  },
  {
   "cell_type": "markdown",
   "metadata": {},
   "source": [
    "#### Exercise 1 solution"
   ]
  },
  {
   "cell_type": "code",
   "execution_count": 38,
   "metadata": {},
   "outputs": [
    {
     "name": "stdout",
     "output_type": "stream",
     "text": [
      "1e+50\n",
      "2.0\n",
      "-1.414213562373095\n",
      "-0.6324555320336759\n"
     ]
    },
    {
     "data": {
      "text/plain": [
       "0.5057938380690186"
      ]
     },
     "execution_count": 38,
     "metadata": {},
     "output_type": "execute_result"
    }
   ],
   "source": [
    "import scipy.stats\n",
    "\n",
    "# The one from Jones Schonlau & Welch 1998\n",
    "def EI2(m,v,best_y):\n",
    "    \n",
    "    if v <= 0:\n",
    "        return max(0,m-best_y)\n",
    "    \n",
    "    delta = m-best_y\n",
    "    s = np.sqrt(v)\n",
    "    z = delta / s\n",
    "    ret = s * scipy.stats.norm.pdf(z)\n",
    "    ret += delta*scipy.stats.norm.cdf(z)\n",
    "    return ret\n",
    "\n",
    "# The version from the tutorial\n",
    "def EI1(m,v,best_y):\n",
    "    \n",
    "    if v <= 0:\n",
    "        ret = max(0,m-best_y)\n",
    "    else:   \n",
    "        delta = m-best_y\n",
    "        s = np.sqrt(v)\n",
    "        z = delta / s\n",
    "        ret = max(0,delta)\n",
    "        ret += s * scipy.stats.norm.pdf(z) \n",
    "        print(z)\n",
    "        ret -= abs(delta)*scipy.stats.norm.cdf(-1*abs(z))\n",
    "    \n",
    "    # This checks whether the two implementations give different values\n",
    "    difference = ret - EI2(m,v,best_y)\n",
    "    if abs(difference)>1e-5:\n",
    "        print('substantial difference: m={} v={} best_y={} diff={})'.format(m, v, best_y, difference))\n",
    "        \n",
    "    return ret\n",
    "\n",
    "EI = EI1\n",
    "\n",
    "# Test that the two versions give the same values\n",
    "EI(1,1e-100,0)\n",
    "EI(2,1,0)\n",
    "EI(0,2,2)\n",
    "EI(0,10,2)"
   ]
  },
  {
   "cell_type": "markdown",
   "metadata": {},
   "source": [
    "#### Exercise 1 solution"
   ]
  },
  {
   "cell_type": "markdown",
   "metadata": {},
   "source": [
    "#### End Exercise 1"
   ]
  },
  {
   "cell_type": "code",
   "execution_count": 5,
   "metadata": {},
   "outputs": [],
   "source": [
    "# It's useful to have the boilerplate for plotting the posterior as its own function\n",
    "# This takes as input an axis for plotting (ax), a BoTorch model (model), the set of \n",
    "# points at which to plot (test_x), and the points that have already been evaluated\n",
    "# (train_x, train_y)\n",
    "def plot_posterior(ax,model,test_x,train_x,train_y):\n",
    "    \n",
    "    with torch.no_grad():\n",
    "    \n",
    "        # Calculate the posterior at the test points\n",
    "        posterior = model.posterior(test_x)\n",
    "\n",
    "        # Get upper and lower confidence bounds (2 standard deviations from the mean)\n",
    "        lower, upper = posterior.mvn.confidence_region()\n",
    "        # Plot training points as black stars\n",
    "        ax.plot(train_x.cpu().numpy(), train_y.cpu().numpy(), 'k*')\n",
    "        # Plot posterior means as blue line\n",
    "        ax.plot(test_x.cpu().numpy(), posterior.mean.cpu().numpy(), 'b')\n",
    "        # Shade between the lower and upper confidence bounds\n",
    "        ax.fill_between(test_x.cpu().numpy(), lower.cpu().numpy(), upper.cpu().numpy(), alpha=0.5)\n",
    "    \n",
    "    ax.legend(['Observed Data', 'Mean', 'Confidence'])"
   ]
  },
  {
   "cell_type": "code",
   "execution_count": 6,
   "metadata": {},
   "outputs": [
    {
     "data": {
      "image/png": "[encoded data removed]",
      "text/plain": [
       "<Figure size 432x288 with 2 Axes>"
      ]
     },
     "metadata": {
      "needs_background": "light"
     },
     "output_type": "display_data"
    }
   ],
   "source": [
    "# Using your EI function, we plot the EI below the posterior\n",
    "\n",
    "f, (ax1,ax2) = plt.subplots(2, 1, figsize=(6, 4))\n",
    "test_x = torch.linspace(0, 1, 101, dtype=torch.float, device=device)\n",
    "acq = np.zeros(101)\n",
    "best_y = max(train_y.numpy())[0]\n",
    "\n",
    "# Plot the posterior in the first subplot (ax1)\n",
    "plot_posterior(ax1,model,test_x,train_x,train_y)\n",
    "    \n",
    "# Calculate EI\n",
    "with torch.no_grad():\n",
    "    posterior = model.posterior(test_x)\n",
    "    m = posterior.mvn.mean.numpy()\n",
    "    v = posterior.mvn.variance.numpy()\n",
    "    for i in range(len(m)):\n",
    "        acq[i] = EI(m[i],v[i],best_y)\n",
    "    \n",
    "    # Plot EI in the second sub-plot\n",
    "    ax2.plot(test_x.cpu().numpy(), acq, '-')\n",
    "    ax2.legend(['EI'])\n",
    "    \n",
    "plt.tight_layout()"
   ]
  },
  {
   "cell_type": "code",
   "execution_count": 7,
   "metadata": {},
   "outputs": [
    {
     "data": {
      "text/plain": [
       "[<matplotlib.lines.Line2D at 0x7fdab0d05390>]"
      ]
     },
     "execution_count": 7,
     "metadata": {},
     "output_type": "execute_result"
    },
    {
     "data": {
      "image/png": "[encoded data removed]",
      "text/plain": [
       "<Figure size 432x288 with 1 Axes>"
      ]
     },
     "metadata": {
      "needs_background": "light"
     },
     "output_type": "display_data"
    }
   ],
   "source": [
    "# We can make the same plot using BoTorch\n",
    "from botorch.acquisition import ExpectedImprovement\n",
    "\n",
    "best_value = train_y.max()\n",
    "# This initializes an acquisition function object.\n",
    "BoTorch_EI = ExpectedImprovement(model=model, best_f=best_value)\n",
    "\n",
    "# Before running our acquisition function on our test points (test_x),\n",
    "# we need to convert it from its current form, which is a 1-d tensor containing 101 elements,\n",
    "# into a 3-d tensor with shape 1 x 1 x 101.\n",
    "# To do this, we call unsqueeze twice to add the two missing dimensions.\n",
    "# The argument to unsqueeze tells it at what index to add the extra dimension.\n",
    "# This is probably best understood with this example:\n",
    "# >> test_x.shape\n",
    "# >> torch.Size([101])\n",
    "# >> test_x.unsqueeze(1).shape\n",
    "# >> torch.Size([101, 1])\n",
    "# >> test_x.unsqueeze(1).unsqueeze(0).shape\n",
    "# >> torch.Size([101, 1, 1])\n",
    "# This is required because the acquisition function is set up to handle multiple batches \n",
    "# of multi-dimensional x values. Adding the two extra dimensions tells the acquisition \n",
    "# function that we have 101 batches, each of which contains a single 1-dimensional point.\n",
    "\n",
    "# The \"forward\" method of an acquisition function evaluates it on the input points.\n",
    "\n",
    "acq = BoTorch_EI.forward(test_x.unsqueeze(1).unsqueeze(1))\n",
    "plt.plot(test_x.numpy(), acq.detach().numpy())"
   ]
  },
  {
   "cell_type": "markdown",
   "metadata": {},
   "source": [
    "Now we can use BoTorch to optimize EI.  We use a multiple restarts for our optimization method, using 50 random restarts chosen from 100 initial raw samples."
   ]
  },
  {
   "cell_type": "code",
   "execution_count": 8,
   "metadata": {},
   "outputs": [],
   "source": [
    "from botorch.optim import optimize_acqf\n",
    "\n",
    "new_point, new_point_EI = optimize_acqf(\n",
    "    acq_function=BoTorch_EI,\n",
    "    bounds=torch.tensor([[0.0], [1.0]]),\n",
    "    q=1,\n",
    "    num_restarts=50,\n",
    "    raw_samples=100,\n",
    "    options={},\n",
    ")"
   ]
  },
  {
   "cell_type": "code",
   "execution_count": 9,
   "metadata": {},
   "outputs": [
    {
     "data": {
      "text/plain": [
       "tensor(0.5227)"
      ]
     },
     "execution_count": 9,
     "metadata": {},
     "output_type": "execute_result"
    }
   ],
   "source": [
    "# This is the point that optimized the EI.\n",
    "new_point_EI"
   ]
  },
  {
   "cell_type": "code",
   "execution_count": 10,
   "metadata": {},
   "outputs": [
    {
     "data": {
      "text/plain": [
       "[<matplotlib.lines.Line2D at 0x7fda8052d8d0>,\n",
       " <matplotlib.lines.Line2D at 0x7fda8052db50>]"
      ]
     },
     "execution_count": 10,
     "metadata": {},
     "output_type": "execute_result"
    },
    {
     "data": {
      "image/png": "[encoded data removed]",
      "text/plain": [
       "<Figure size 432x288 with 1 Axes>"
      ]
     },
     "metadata": {
      "needs_background": "light"
     },
     "output_type": "display_data"
    }
   ],
   "source": [
    "# We can plot it on the EI surface to see that it does indeed optimize EI\n",
    "acq = BoTorch_EI.forward(test_x.unsqueeze(1).unsqueeze(1))\n",
    "plt.plot(test_x.numpy(), acq.detach().numpy(), '-', new_point.numpy(), new_point_EI.numpy(),'o')"
   ]
  },
  {
   "cell_type": "markdown",
   "metadata": {},
   "source": [
    "#### Full BayesOpt loop\n",
    "\n",
    "The following is a full BayesOpt loop that iteratively: (1) finds the point that optimizes the EI; (2) observes the objective at this point; (3) adds the new data to our training data.  After every evaluation it prints out the new posterior and the EI surface."
   ]
  },
  {
   "cell_type": "code",
   "execution_count": 12,
   "metadata": {},
   "outputs": [
    {
     "name": "stdout",
     "output_type": "stream",
     "text": [
      "Iteration 0, measuring at x=0.14503943920135498\n"
     ]
    },
    {
     "data": {
      "image/png": "[encoded data removed]",
      "text/plain": [
       "<Figure size 432x288 with 2 Axes>"
      ]
     },
     "metadata": {
      "needs_background": "light"
     },
     "output_type": "display_data"
    },
    {
     "name": "stdout",
     "output_type": "stream",
     "text": [
      "Iteration 1, measuring at x=0.0\n"
     ]
    },
    {
     "data": {
      "image/png": "[encoded data removed]",
      "text/plain": [
       "<Figure size 432x288 with 2 Axes>"
      ]
     },
     "metadata": {
      "needs_background": "light"
     },
     "output_type": "display_data"
    },
    {
     "name": "stdout",
     "output_type": "stream",
     "text": [
      "Iteration 2, measuring at x=0.25431206822395325\n"
     ]
    },
    {
     "data": {
      "image/png": "[encoded data removed]",
      "text/plain": [
       "<Figure size 432x288 with 2 Axes>"
      ]
     },
     "metadata": {
      "needs_background": "light"
     },
     "output_type": "display_data"
    }
   ],
   "source": [
    "x = torch.rand(3, 1)\n",
    "y = objective(x)\n",
    "\n",
    "for i in range(3):\n",
    "    \n",
    "    # Fit the model\n",
    "    noises = torch.ones(len(y)) * 0.0001\n",
    "    model = SingleTaskGP(x, y, likelihood = FixedNoiseGaussianLikelihood(noise=noises))\n",
    "    mll = ExactMarginalLogLikelihood(model.likelihood, model)\n",
    "    fit_gpytorch_model(mll)\n",
    "    \n",
    "    # Optimize EI\n",
    "    BoTorch_EI = ExpectedImprovement(model=model, best_f=y.max())\n",
    "    new_point, new_point_EI = optimize_acqf(\n",
    "        acq_function=BoTorch_EI,\n",
    "        bounds=torch.tensor([[0.0], [1.0]]),\n",
    "        q=1,\n",
    "        num_restarts=50,\n",
    "        raw_samples=100,\n",
    "        options={},\n",
    "    )\n",
    "    \n",
    "    # Plot the posterior and the EI\n",
    "    f, (ax1,ax2) = plt.subplots(2, 1, figsize=(6, 4))\n",
    "    test_x = torch.linspace(0, 1, 101, dtype=torch.float, device=device)\n",
    "    \n",
    "    # Plot the posterior\n",
    "    plot_posterior(ax1,model,test_x,x,y)\n",
    "    \n",
    "    # Plot EI\n",
    "    acq = BoTorch_EI.forward(test_x.unsqueeze(1).unsqueeze(1))\n",
    "    ax2.plot(test_x.numpy(), acq.detach().numpy(), '-', new_point.numpy(), new_point_EI.numpy(),'o')\n",
    "    \n",
    "    print('Iteration {}, measuring at x={}'.format(i,new_point.item()) )\n",
    "    plt.show()\n",
    "    \n",
    "    \n",
    "    # Add the new data\n",
    "    x = torch.cat((x,new_point))\n",
    "    y = torch.cat((y, objective(new_point)))"
   ]
  },
  {
   "cell_type": "markdown",
   "metadata": {},
   "source": [
    "#### Exercise 2\n",
    "\n",
    "Building on the previous cell and Exercise 2 in lab 2, write code that uses Bayesian Optimization to minimize the Hartmann\n",
    "function over the 6-dimensional unit hypercube with noise-free evaluations.  (I.e., it maximizes negative 1 times the Hartmann function.)\n",
    "\n",
    "Start with 20 points choosing at random.  Then run 20 iterations of\n",
    "Bayesian optimization, fitting a Gaussian process with a Matern kernel with nu=0.5.\n",
    "\n",
    "At the start of the first iteration print out the value of the best point found so far.\n",
    "\n",
    "After every new iteration print out\n",
    "- the point being evaluated\n",
    "- the value of that point\n",
    "- the value of the best point found so far\n",
    "\n",
    "Don't forget to adjust the bounds on where we optimize over with optimize_acqf.  This line should be\n",
    "\n",
    "`bounds=torch.tensor([[0., 0., 0., 0., 0., 0.],[1., 1., 1., 1., 1., 1.]]),`\n",
    "\n",
    "\n",
    "To help you, here is a partially written loop\n",
    "   "
   ]
  },
  {
   "cell_type": "code",
   "execution_count": null,
   "metadata": {},
   "outputs": [],
   "source": [
    "from botorch.test_functions import Hartmann\n",
    "objective = Hartmann(negate=True)\n",
    "np.random.seed(1)\n",
    "x = torch.rand(20, 6, device=device, dtype=torch.float)\n",
    "y = objective(x).unsqueeze(-1)  # add output dimension\n",
    "\n",
    "print('Value of best point found: {}'.format(y.max()))\n",
    "\n",
    "best = [y.max()] # This will store the best value\n",
    "\n",
    "for i in range(20):\n",
    "    \n",
    "    # Fit the model\n",
    "    # FILL IN YOUR CODE HERE.  \n",
    "    # Take x and y as your training data and producte a fitted \"model\" object\n",
    "    \n",
    "    # Optimize EI\n",
    "    # FILL IN YOUR CODE HERE\n",
    "    # Take your model object and y and produce \"new_point\" which maximizes EI\n",
    "    \n",
    "    # Evaluate the objective\n",
    "    # FILL IN YOUR CODE HERE --- set new_value equal to the value of the objective at the new point\n",
    "    \n",
    "    print()\n",
    "    print(new_point.numpy())\n",
    "    print('Iteration {:2d}, value={:0.3f}, best value={:0.3f}'.format(\n",
    "        i,\n",
    "        new_value.item(),\n",
    "        max(new_value,y.max()).item()))\n",
    "    \n",
    "    # Add the new data\n",
    "    x = torch.cat((x,new_point))\n",
    "    y = torch.cat((y,new_value.unsqueeze(-1)))\n",
    "    best.append(y.max())"
   ]
  },
  {
   "cell_type": "markdown",
   "metadata": {},
   "source": [
    "#### Exercise 2 Solution"
   ]
  },
  {
   "cell_type": "code",
   "execution_count": 16,
   "metadata": {},
   "outputs": [
    {
     "name": "stdout",
     "output_type": "stream",
     "text": [
      "Value of best point found: 1.432845950126648\n",
      "\n",
      "[[0.14996117 0.14582032 0.83588636 0.26937553 0.16850464 0.853934  ]]\n",
      "Iteration  0, value=1.554, best value=1.554\n",
      "\n",
      "[[0.15535076 0.15603843 0.81077415 0.27885956 0.16764258 0.84172875]]\n",
      "Iteration  1, value=1.656, best value=1.656\n",
      "\n",
      "[[0.16008468 0.16587003 0.7875977  0.28798524 0.1670073  0.83047503]]\n",
      "Iteration  2, value=1.741, best value=1.741\n",
      "\n",
      "[[0.1643443  0.17560603 0.76578856 0.29692405 0.16658281 0.82079333]]\n",
      "Iteration  3, value=1.812, best value=1.812\n",
      "\n",
      "[[0.16724052 0.18690462 0.74680096 0.3076205  0.16351703 0.81511956]]\n",
      "Iteration  4, value=1.845, best value=1.845\n",
      "\n",
      "[[0.17035529 0.18062164 0.7359086  0.30020377 0.16997075 0.8034602 ]]\n",
      "Iteration  5, value=1.923, best value=1.923\n",
      "\n",
      "[[0.17166452 0.18166631 0.71915096 0.29738292 0.17067188 0.79028404]]\n",
      "Iteration  6, value=1.984, best value=1.984\n",
      "\n",
      "[[0.17720501 0.18687417 0.70086384 0.2992742  0.1762843  0.78514993]]\n",
      "Iteration  7, value=2.069, best value=2.069\n",
      "\n",
      "[[0.18107711 0.19150133 0.6825846  0.3001606  0.17994936 0.778828  ]]\n",
      "Iteration  8, value=2.142, best value=2.142\n",
      "\n",
      "[[0.18390235 0.19645432 0.6649936  0.30081627 0.18147202 0.7716766 ]]\n",
      "Iteration  9, value=2.198, best value=2.198\n",
      "\n",
      "[[0.18172489 0.19929568 0.643949   0.30034274 0.18081822 0.7681244 ]]\n",
      "Iteration 10, value=2.231, best value=2.231\n",
      "\n",
      "[[0.18499015 0.2083931  0.64484984 0.30281714 0.18469843 0.7626822 ]]\n",
      "Iteration 11, value=2.271, best value=2.271\n",
      "\n",
      "[[0.1933958  0.21157743 0.63501847 0.3034019  0.18239407 0.7606425 ]]\n",
      "Iteration 12, value=2.272, best value=2.272\n",
      "\n",
      "[[0.18660106 0.20902283 0.6408955  0.3060931  0.18145394 0.7537567 ]]\n",
      "Iteration 13, value=2.267, best value=2.272\n",
      "\n",
      "[[0.18718544 0.21326509 0.64023334 0.2955807  0.18251894 0.75760317]]\n",
      "Iteration 14, value=2.278, best value=2.278\n",
      "\n",
      "[[0.18463527 0.21856256 0.637375   0.3037395  0.1810369  0.7617428 ]]\n",
      "Iteration 15, value=2.251, best value=2.278\n",
      "\n",
      "[[0.18824749 0.20809123 0.6326061  0.29861042 0.18772158 0.75641096]]\n",
      "Iteration 16, value=2.331, best value=2.331\n",
      "\n",
      "[[0.1882191  0.20724685 0.62384176 0.2963276  0.19351055 0.75324446]]\n",
      "Iteration 17, value=2.399, best value=2.399\n",
      "\n",
      "[[0.18812843 0.2069067  0.6146027  0.2940702  0.19861518 0.74992   ]]\n",
      "Iteration 18, value=2.462, best value=2.462\n",
      "\n",
      "[[0.18792136 0.20673366 0.6049447  0.29164004 0.20313266 0.7465182 ]]\n",
      "Iteration 19, value=2.520, best value=2.520\n"
     ]
    }
   ],
   "source": [
    "from botorch.test_functions import Hartmann\n",
    "objective = Hartmann(negate=True)\n",
    "np.random.seed(1)\n",
    "x = torch.rand(20, 6, device=device, dtype=torch.float)\n",
    "y = objective(x).unsqueeze(-1)  # add output dimension\n",
    "\n",
    "print('Value of best point found: {}'.format(y.max()))\n",
    "\n",
    "best = [y.max()] # This will store the best value\n",
    "\n",
    "for i in range(20):\n",
    "    \n",
    "    # Fit the model\n",
    "    noises = torch.ones(len(y)) * 0.0001\n",
    "    model = SingleTaskGP(x, y, likelihood = FixedNoiseGaussianLikelihood(noise=noises))\n",
    "    model.covar_module.base_kernel.nu = .5\n",
    "    mll = ExactMarginalLogLikelihood(model.likelihood, model)\n",
    "    fit_gpytorch_model(mll)\n",
    "    \n",
    "    # Optimize EI\n",
    "    BoTorch_EI = ExpectedImprovement(model=model, best_f=y.max())\n",
    "    new_point, new_point_EI = optimize_acqf(\n",
    "        acq_function=BoTorch_EI,\n",
    "        bounds=torch.tensor([[0., 0., 0., 0., 0., 0.],[1., 1., 1., 1., 1., 1.]]),\n",
    "        q=1,\n",
    "        num_restarts=20,\n",
    "        raw_samples=100,\n",
    "        options={},\n",
    "    )\n",
    "    \n",
    "    new_value = objective(new_point)\n",
    "    \n",
    "    print()\n",
    "    print(new_point.numpy())\n",
    "    print('Iteration {:2d}, value={:0.3f}, best value={:0.3f}'.format(\n",
    "        i,\n",
    "        new_value.item(),\n",
    "        max(new_value,y.max()).item()))\n",
    "    \n",
    "    #cross_validation(x,y,nu=0.5)\n",
    "\n",
    "    \n",
    "    # Add the new data\n",
    "    x = torch.cat((x,new_point))\n",
    "    y = torch.cat((y,new_value.unsqueeze(-1)))\n",
    "    best.append(y.max())"
   ]
  },
  {
   "cell_type": "code",
   "execution_count": 17,
   "metadata": {},
   "outputs": [
    {
     "data": {
      "text/plain": [
       "Text(0, 0.5, 'Best value found')"
      ]
     },
     "execution_count": 17,
     "metadata": {},
     "output_type": "execute_result"
    },
    {
     "data": {
      "image/png": "[encoded data removed]",
      "text/plain": [
       "<Figure size 432x288 with 1 Axes>"
      ]
     },
     "metadata": {
      "needs_background": "light"
     },
     "output_type": "display_data"
    }
   ],
   "source": [
    "plt.plot(best,'o-')\n",
    "plt.xlabel('Iteration')\n",
    "plt.ylabel('Best value found')"
   ]
  },
  {
   "cell_type": "code",
   "execution_count": null,
   "metadata": {},
   "outputs": [],
   "source": []
  }
 ],
 "metadata": {
  "kernelspec": {
   "display_name": "Python 2",
   "language": "python",
   "name": "python2"
  },
  "language_info": {
   "codemirror_mode": {
    "name": "ipython",
    "version": 3
   },
   "file_extension": ".py",
   "mimetype": "text/x-python",
   "name": "python",
   "nbconvert_exporter": "python",
   "pygments_lexer": "ipython3",
   "version": "3.7.4"
  }
 },
 "nbformat": 4,
 "nbformat_minor": 2
}
