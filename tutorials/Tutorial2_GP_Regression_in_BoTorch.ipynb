{
 "cells": [
  {
   "cell_type": "markdown",
   "metadata": {},
   "source": [
    "# Tutorial 2: Gaussian process regression in BoTorch and gpytorch\n",
    "### (with solutions to exercises)\n",
    "\n",
    "BoTorch is a package for Bayesian Optimization.  Its support for Gaussian process regression comes from another package, gpytorch.  Both of these packages are, in turn, based on pytorch, which is a framework often used for deep learning that supports fast operations on GPUs in python and autodifferentiation. Both of these features are also useful in Bayesian optimization.\n",
    "\n",
    "Here we'll use these packages to do the same inference that we did in Tutorial 1, but more quickly and with more capabilities.\n",
    "\n",
    "To run this notebook, you'll need to first install botorch. You can do this via pip or conda, depending on which you like to use to manage your packages. Installing botorch will also install torcch.\n",
    "- To install via Anaconda: `conda install botorch -c pytorch -c gpytorch`\n",
    "- To install via pip: `pip install botorch`\n",
    "\n",
    "\n",
    "This tutorial is based on the BoTorch tutorial, https://botorch.org/tutorials/fit_model_with_torch_optimizer, which is based on the gpytorch tutorial, https://github.com/cornellius-gp/gpytorch/blob/master/examples/01_Exact_GPs/Simple_GP_Regression.ipynb"
   ]
  },
  {
   "cell_type": "code",
   "execution_count": 10,
   "metadata": {},
   "outputs": [],
   "source": [
    "import torch # loading torch before matplotlib can be important\n",
    "import matplotlib.pyplot as plt\n",
    "import math\n",
    "import numpy as np\n",
    "import os.path"
   ]
  },
  {
   "cell_type": "code",
   "execution_count": 11,
   "metadata": {},
   "outputs": [
    {
     "data": {
      "text/plain": [
       "[<matplotlib.lines.Line2D at 0x7face0db3b50>]"
      ]
     },
     "execution_count": 11,
     "metadata": {},
     "output_type": "execute_result"
    },
    {
     "data": {
      "image/png": "[encoded data removed]",
      "text/plain": [
       "<Figure size 432x288 with 1 Axes>"
      ]
     },
     "metadata": {
      "needs_background": "light"
     },
     "output_type": "display_data"
    }
   ],
   "source": [
    "filename = 'lab1_data.csv'\n",
    "data = np.loadtxt(filename)\n",
    "train_x = data[:,0] # First column of the data\n",
    "train_y = data[:,1] # Second column of the data\n",
    "plt.xlim(0,1)\n",
    "plt.plot(train_x, train_y,'o-')"
   ]
  },
  {
   "cell_type": "code",
   "execution_count": 12,
   "metadata": {},
   "outputs": [],
   "source": [
    "# use a GPU if available\n",
    "device = torch.device(\"cuda\" if torch.cuda.is_available() else \"cpu\")\n",
    "dtype = torch.double"
   ]
  },
  {
   "cell_type": "code",
   "execution_count": 13,
   "metadata": {},
   "outputs": [
    {
     "data": {
      "text/plain": [
       "[<matplotlib.lines.Line2D at 0x7facd1bf0a90>]"
      ]
     },
     "execution_count": 13,
     "metadata": {},
     "output_type": "execute_result"
    },
    {
     "data": {
      "image/png": "[encoded data removed]",
      "text/plain": [
       "<Figure size 432x288 with 1 Axes>"
      ]
     },
     "metadata": {
      "needs_background": "light"
     },
     "output_type": "display_data"
    }
   ],
   "source": [
    "# Read in data from a file.  Code copied from Lab 1. When you run this notebook, to reproduce the results,\n",
    "# download lab1_data.csv from the repository rather than having this cell re-generate it for you.\n",
    "filename = 'lab1_data.csv'\n",
    "\n",
    "# If data doesn't exist, generate it\n",
    "if ~os.path.exists(filename):\n",
    "    np.random.seed(1)\n",
    "    train_x = np.sort(np.random.rand(10)) # 10 points, uniformly distributed between 0 and 1\n",
    "    train_y = [math.sin(x * (2 * math.pi)) + 0.0 * np.random.randn() for x in train_x]\n",
    "    data = np.transpose([train_x,train_y])\n",
    "    np.savetxt(filename,data)\n",
    "\n",
    "# Read in data from a file.  \n",
    "data = np.loadtxt(filename)\n",
    "train_x = data[:,0] # First column of the data\n",
    "train_y = data[:,1] # Second column of the data\n",
    "plt.xlim(0,1)\n",
    "plt.plot(train_x, train_y,'o-')"
   ]
  },
  {
   "cell_type": "markdown",
   "metadata": {},
   "source": [
    "### Convert training data to torch format"
   ]
  },
  {
   "cell_type": "code",
   "execution_count": 14,
   "metadata": {},
   "outputs": [
    {
     "data": {
      "text/plain": [
       "tensor([[1.1437e-04],\n",
       "        [9.2339e-02],\n",
       "        [1.4676e-01],\n",
       "        [1.8626e-01],\n",
       "        [3.0233e-01],\n",
       "        [3.4556e-01],\n",
       "        [3.9677e-01],\n",
       "        [4.1702e-01],\n",
       "        [5.3882e-01],\n",
       "        [7.2032e-01]], dtype=torch.float64)"
      ]
     },
     "execution_count": 14,
     "metadata": {},
     "output_type": "execute_result"
    }
   ],
   "source": [
    "# Convert our training x and y data to torch format.\n",
    "# To do this, we first convert to a torch tensor.\n",
    "# Then we use unsqueeze to make the tensors multidimensional.\n",
    "# Note that we are changing the datatype of train_x and train_y\n",
    "train_x = torch.from_numpy(train_x).unsqueeze(1)\n",
    "train_y = torch.from_numpy(train_y).unsqueeze(1)\n",
    "\n",
    "# Outputting one of these tensors to show what they look like\n",
    "train_x"
   ]
  },
  {
   "cell_type": "markdown",
   "metadata": {},
   "source": [
    "### Train the GP regression model and plot the posterior\n",
    "We will model the function using a `SingleTaskGP`. Here, \"single task\" refers to the fact that the funcction we are modeling with a GP has a scalar output. BoTorch is also able to model functions with vector-valued outputs, for which it uses something called a \"multi-task GP\".\n",
    "\n",
    "The `SingleTaskGP` has a `likelihood` argument, which describes the likelihood of our observation y(x) conditioned on the fuction's underlying value at x. This lets us model noisy observations. Here, we pass a `FixedNoiseGaussianLikelihood`, which assumes that all of the observations are independent and normally distributed with known variance around the function's true value, conditioned on the underlying function itself. BoTorch is also able to use other kinds of likelihoods."
   ]
  },
  {
   "cell_type": "code",
   "execution_count": 15,
   "metadata": {},
   "outputs": [
    {
     "data": {
      "text/plain": [
       "SingleTaskGP(\n",
       "  (likelihood): FixedNoiseGaussianLikelihood(\n",
       "    (noise_covar): FixedGaussianNoise()\n",
       "  )\n",
       "  (mean_module): ConstantMean()\n",
       "  (covar_module): ScaleKernel(\n",
       "    (base_kernel): MaternKernel(\n",
       "      (lengthscale_prior): GammaPrior()\n",
       "      (raw_lengthscale_constraint): Positive()\n",
       "    )\n",
       "    (outputscale_prior): GammaPrior()\n",
       "    (raw_outputscale_constraint): Positive()\n",
       "  )\n",
       ")"
      ]
     },
     "execution_count": 15,
     "metadata": {},
     "output_type": "execute_result"
    }
   ],
   "source": [
    "from botorch.models import SingleTaskGP\n",
    "from gpytorch.constraints import GreaterThan\n",
    "from gpytorch.likelihoods import FixedNoiseGaussianLikelihood\n",
    "\n",
    "# Create a likelihood appropriate for noise-free observations.\n",
    "# We will use a Gaussian likelihood with a very small variance (noisefree_variance).\n",
    "# This variance is passed as a torch tensor with one entry per datapoint, and all\n",
    "# entries containing the same value.\n",
    "# We use a small strictly positive variance instead of zero variance\n",
    "# to avoid numerical instabilities. If, instead, we set noisefree_variance to 0, \n",
    "# then gpytorch issues warning messages and rounds up to a small positive number\n",
    "# (at least in June 2022 when this part of the tutorial was developed).\n",
    "noisefree_variance = 0.0001\n",
    "noises = torch.ones(len(train_y)) * noisefree_variance\n",
    "noise_free_likelihood = FixedNoiseGaussianLikelihood(noise=noises)\n",
    "\n",
    "# Create our GP model using the training data. By default, BoTorch uses a constant mean and Matern kernel.\n",
    "model = SingleTaskGP(train_x, train_y, likelihood = noise_free_likelihood)\n",
    "\n",
    "# Another slightly faster way to do the same thing is:\n",
    "# from botorch.models import FixedNoiseGP\n",
    "# model = SingleTaskGP(train_x, train_y, likelihood = noise_free_likelihood)\n",
    "\n",
    "# If you want to allow BoTorch to learn the variance of homoscedastic Gaussian noise, \n",
    "# drop the likelihood argument:\n",
    "# model = FixedNoiseGP(torch_train_x, torch_train_y, noises)\n",
    "\n",
    "model # Print out the model object"
   ]
  },
  {
   "cell_type": "markdown",
   "metadata": {},
   "source": [
    "You can see from the output above that the GP model has several components:\n",
    "- a likelihood, described above\n",
    "- a mean and covar module, which specifies the mean and kernel function respectively\n",
    "\n",
    "The covar module has a constraint on its lengthscale saying that it must be positive, and also has a prior that is used when estimating it from data.  For now, we will simply use a fixed length scale and so this constraint and prior won't matter for the moment.\n",
    "\n",
    "Now we change the parameters used in the prior to match what we used in Tutorial 1 as a default.  The constant for the mean because it is 0 by default. Then we can fit the model and see that BoTorch is doing the same thing that our pure-python GP regression code did earlier."
   ]
  },
  {
   "cell_type": "code",
   "execution_count": 16,
   "metadata": {},
   "outputs": [
    {
     "data": {
      "text/plain": [
       "SingleTaskGP(\n",
       "  (likelihood): FixedNoiseGaussianLikelihood(\n",
       "    (noise_covar): FixedGaussianNoise()\n",
       "  )\n",
       "  (mean_module): ConstantMean()\n",
       "  (covar_module): ScaleKernel(\n",
       "    (base_kernel): MaternKernel(\n",
       "      (lengthscale_prior): GammaPrior()\n",
       "      (raw_lengthscale_constraint): Positive()\n",
       "    )\n",
       "    (outputscale_prior): GammaPrior()\n",
       "    (raw_outputscale_constraint): Positive()\n",
       "  )\n",
       ")"
      ]
     },
     "execution_count": 16,
     "metadata": {},
     "output_type": "execute_result"
    }
   ],
   "source": [
    "# Change the mean function. To do so, we have to construct a neural network parameter\n",
    "# from the desired value (0), rather than simply setting the constant to 0.\n",
    "model.mean_module.constant = torch.nn.Parameter(torch.tensor(0.)) \n",
    "\n",
    "# Now we will change 3 parameters in the Matern kernel: nu, the length scale, and the output scale.\n",
    "\n",
    "# Change the parameter nu (this is the same parameter nu that we saw in Tutorial 1). \n",
    "# gpytorch only supports some values for this parameter: 1/2, 3/2, or 5/2.\n",
    "# If you want to use the value 2, use the RBF Kernel instead,\n",
    "# since the the RBF kernel is the Matern kernel with nu=2.\n",
    "model.covar_module.base_kernel.nu = 1.5\n",
    "\n",
    "# Change the length scale.\n",
    "# base_kernel.lengthscale is what we call length_scale in Lab 1 and what we call alpha_1 in the slides.\n",
    "# It determines the length scale of the output.\n",
    "model.covar_module.base_kernel.lengthscale = 1.\n",
    "\n",
    "# Change the output scale.\n",
    "# model.covar_module.outputscale is what we call alpha0 in our Lab 1 code.  \n",
    "model.covar_module.outputscale = 1.\n",
    "\n",
    "# Train the GP model\n",
    "model.eval()"
   ]
  },
  {
   "cell_type": "code",
   "execution_count": 17,
   "metadata": {},
   "outputs": [
    {
     "name": "stderr",
     "output_type": "stream",
     "text": [
      "/usr/local/anaconda3/lib/python3.7/site-packages/gpytorch/lazy/lazy_tensor.py:1810: UserWarning: torch.triangular_solve is deprecated in favor of torch.linalg.solve_triangularand will be removed in a future PyTorch release.\n",
      "torch.linalg.solve_triangular has its arguments reversed and does not return a copy of one of the inputs.\n",
      "X = torch.triangular_solve(B, A).solution\n",
      "should be replaced with\n",
      "X = torch.linalg.solve_triangular(A, B). (Triggered internally at  /Users/runner/work/_temp/anaconda/conda-bld/pytorch_1656352443756/work/aten/src/ATen/native/BatchLinearAlgebra.cpp:2189.)\n",
      "  Linv = torch.triangular_solve(Eye, L, upper=False).solution\n"
     ]
    },
    {
     "data": {
      "image/png": "[encoded data removed]",
      "text/plain": [
       "<Figure size 432x288 with 1 Axes>"
      ]
     },
     "metadata": {
      "needs_background": "light"
     },
     "output_type": "display_data"
    }
   ],
   "source": [
    "# This code used the trained GP model to plot the posterior.\n",
    "# Its output should match the plot we made in Tutorial 1.\n",
    "# It may produce a warning message about torch.triangular_solve being deprecated. Don't worry about this.\n",
    "def plot_posterior(model):\n",
    "\n",
    "    # Initialize plot\n",
    "    f, ax = plt.subplots(1, 1, figsize=(6, 4))\n",
    "    # test model on 101 regular spaced points on the interval [0, 1]\n",
    "    test_x = torch.linspace(0, 1, 101, dtype=dtype, device=device)\n",
    "\n",
    "    with torch.no_grad(): # no need for gradients\n",
    "        # compute posterior\n",
    "        posterior = model.posterior(test_x)\n",
    "        # Get upper and lower confidence bounds (2 standard deviations from the mean)\n",
    "        lower, upper = posterior.mvn.confidence_region()\n",
    "        # Plot training points as black stars\n",
    "        ax.plot(train_x.cpu().numpy(), train_y.cpu().numpy(), 'k*')\n",
    "        # Plot posterior means as blue line\n",
    "        ax.plot(test_x.cpu().numpy(), posterior.mean.cpu().numpy(), 'b')\n",
    "        # Shade between the lower and upper confidence bounds\n",
    "        ax.fill_between(test_x.cpu().numpy(), lower.cpu().numpy(), upper.cpu().numpy(), alpha=0.5)\n",
    "        \n",
    "    ax.legend(['Observed Data', 'Mean', 'Credible Interval'])\n",
    "    plt.tight_layout()\n",
    "    \n",
    "plot_posterior(model)"
   ]
  },
  {
   "cell_type": "markdown",
   "metadata": {},
   "source": [
    "You should see that this plot matches very closely with the plot that we got in Lab 1 using the default parameters:\n",
    "\n",
    "`plot_prediction()`"
   ]
  },
  {
   "cell_type": "markdown",
   "metadata": {},
   "source": [
    "#### Exercise 1\n",
    "\n",
    "This exercise gives some practice changing the mean function and kernel that BoTorch uses.\n",
    "\n",
    "\n",
    "Using BoTorch, reproduce the figure that you generated in Lab 1 with this code:\n",
    "\n",
    "`plot_prediction(\n",
    "    mean = lambda x : -0.5,\n",
    "    kernel = lambda x1,x2 : matern(x1,x2, alpha0=20, length_scales=1.0, nu = 1.5))`"
   ]
  },
  {
   "cell_type": "markdown",
   "metadata": {},
   "source": [
    "#### Exercise 1 Solution"
   ]
  },
  {
   "cell_type": "code",
   "execution_count": 18,
   "metadata": {},
   "outputs": [
    {
     "data": {
      "image/png": "[encoded data removed]",
      "text/plain": [
       "<Figure size 432x288 with 1 Axes>"
      ]
     },
     "metadata": {
      "needs_background": "light"
     },
     "output_type": "display_data"
    }
   ],
   "source": [
    "model = SingleTaskGP(train_x, train_y, likelihood = noise_free_likelihood)\n",
    "\n",
    "model.mean_module.constant = torch.nn.Parameter(torch.tensor(-0.5)) \n",
    "model.covar_module.base_kernel.nu = 1.5\n",
    "model.covar_module.base_kernel.lengthscale = 1.\n",
    "model.covar_module.outputscale = 20.\n",
    "\n",
    "# Train the GP model\n",
    "model.eval()\n",
    "\n",
    "plot_posterior(model)"
   ]
  },
  {
   "cell_type": "markdown",
   "metadata": {},
   "source": [
    "# Choosing the GP hyperparameters\n",
    "\n",
    "Practitioners don't usually set the parameters of the mean function and kernel (called hyperparameters) directly. Instead, there are two main approaches. Here we follow the simpler of the two, which is to set \n",
    "them so that the maximize how likely the data is under the model. We do this by asking BoTorch to calculate and then maximize the log marginal likelihood (the marginal likelihood is the prior probability of the data, marginalizing out the value of the function modeled at unobserved points).\n",
    "\n",
    "### A detailed approach to setting the hyperparameters\n",
    "Here we will show you how to do this manually, explaining all of the steps, and then below we'll show a function that does all of this for you. "
   ]
  },
  {
   "cell_type": "markdown",
   "metadata": {},
   "source": [
    "#### Start with a fresh Gaussian process, that doesn't have the parameters we set above"
   ]
  },
  {
   "cell_type": "code",
   "execution_count": 19,
   "metadata": {},
   "outputs": [
    {
     "data": {
      "image/png": "[encoded data removed]",
      "text/plain": [
       "<Figure size 432x288 with 1 Axes>"
      ]
     },
     "metadata": {
      "needs_background": "light"
     },
     "output_type": "display_data"
    }
   ],
   "source": [
    "model = SingleTaskGP(train_x, train_y, likelihood = noise_free_likelihood)\n",
    "model.covar_module.base_kernel.nu = 1.5\n",
    "model.eval();\n",
    "\n",
    "plot_posterior(model)"
   ]
  },
  {
   "cell_type": "markdown",
   "metadata": {},
   "source": [
    "#### Define marginal log likelihood  (mll)"
   ]
  },
  {
   "cell_type": "code",
   "execution_count": 20,
   "metadata": {},
   "outputs": [],
   "source": [
    "from gpytorch.mlls import ExactMarginalLogLikelihood\n",
    "\n",
    "mll = ExactMarginalLogLikelihood(likelihood=model.likelihood, model=model)\n",
    "\n",
    "# set mll and all submodules to the numeric data type and device (GPU vs. CPU) specified at the start of \n",
    "# our BoTorch code.\n",
    "mll = mll.to(train_x)"
   ]
  },
  {
   "cell_type": "markdown",
   "metadata": {},
   "source": [
    "#### Define optimizer and specify hyperparameters to optimize\n",
    "We will use stochastic gradient descent (`torch.optim.SGD`) to optimize the hyperparameters. In this example, we will use a simple fixed learning rate of 0.2, but in practice the learning rate may need to be adjusted. We will optimize over all parameters in the model, though one could pass a subset of the parameters to the model to tune only those while leaving the others fixed."
   ]
  },
  {
   "cell_type": "code",
   "execution_count": 21,
   "metadata": {},
   "outputs": [],
   "source": [
    "from torch.optim import SGD\n",
    "\n",
    "optimizer = SGD([{'params': model.parameters()}], lr=0.2)"
   ]
  },
  {
   "cell_type": "markdown",
   "metadata": {},
   "source": [
    "The following code allows us to look at the names of the parameters in the GP regression model that will be optimized.  Note that the \n",
    "outputscale and lengthscale are outputted with a \"raw\" prepended to them.  gpytorch wants to ensure that certaint parameters (like the lengthscale and outputscale) satisfy constraints (specifially, that they are positive). To do this, it maintains a raw version of these parameters that can be any real number, and a transformed version that satisfies the constraint.  For example, to satisfy a non-negativity constraint, one can have the transformed version be exp() applied to the raw parameter.  The parameter nu is not included in the parameters that BoTorch optimizes."
   ]
  },
  {
   "cell_type": "code",
   "execution_count": 22,
   "metadata": {},
   "outputs": [
    {
     "name": "stdout",
     "output_type": "stream",
     "text": [
      "These are the parameters we will optimize over:\n",
      "mean_module.constant\n",
      "covar_module.raw_outputscale\n",
      "covar_module.base_kernel.raw_lengthscale\n"
     ]
    }
   ],
   "source": [
    "print('These are the parameters we will optimize over:')\n",
    "for param_name, param in model.named_parameters():\n",
    "    print(param_name)"
   ]
  },
  {
   "cell_type": "markdown",
   "metadata": {},
   "source": [
    "#### Optimize hyperparameters\n",
    "Now we are ready to write our optimization loop. We will perform 1500 epochs of stochastic gradient descent using our entire training set."
   ]
  },
  {
   "cell_type": "code",
   "execution_count": 23,
   "metadata": {},
   "outputs": [
    {
     "name": "stdout",
     "output_type": "stream",
     "text": [
      "Epoch  10/1500 - Negative Marginal Log Likelihood : -0.088 lengthscale: 0.515 constant: -0.184 outputscale: 0.836\n",
      "Epoch  20/1500 - Negative Marginal Log Likelihood : -0.100 lengthscale: 0.529 constant: -0.305 outputscale: 0.893\n",
      "Epoch  30/1500 - Negative Marginal Log Likelihood : -0.108 lengthscale: 0.543 constant: -0.390 outputscale: 0.944\n",
      "Epoch  40/1500 - Negative Marginal Log Likelihood : -0.113 lengthscale: 0.554 constant: -0.452 outputscale: 0.990\n",
      "Epoch  50/1500 - Negative Marginal Log Likelihood : -0.117 lengthscale: 0.564 constant: -0.500 outputscale: 1.033\n",
      "Epoch  60/1500 - Negative Marginal Log Likelihood : -0.119 lengthscale: 0.573 constant: -0.537 outputscale: 1.072\n",
      "Epoch  70/1500 - Negative Marginal Log Likelihood : -0.122 lengthscale: 0.581 constant: -0.567 outputscale: 1.109\n",
      "Epoch  80/1500 - Negative Marginal Log Likelihood : -0.123 lengthscale: 0.588 constant: -0.591 outputscale: 1.143\n",
      "Epoch  90/1500 - Negative Marginal Log Likelihood : -0.125 lengthscale: 0.594 constant: -0.611 outputscale: 1.174\n",
      "Epoch 100/1500 - Negative Marginal Log Likelihood : -0.126 lengthscale: 0.600 constant: -0.628 outputscale: 1.203\n",
      "Epoch 110/1500 - Negative Marginal Log Likelihood : -0.127 lengthscale: 0.605 constant: -0.643 outputscale: 1.230\n",
      "Epoch 120/1500 - Negative Marginal Log Likelihood : -0.127 lengthscale: 0.609 constant: -0.656 outputscale: 1.255\n",
      "Epoch 130/1500 - Negative Marginal Log Likelihood : -0.128 lengthscale: 0.613 constant: -0.667 outputscale: 1.278\n",
      "Epoch 140/1500 - Negative Marginal Log Likelihood : -0.129 lengthscale: 0.617 constant: -0.677 outputscale: 1.300\n",
      "Epoch 150/1500 - Negative Marginal Log Likelihood : -0.129 lengthscale: 0.621 constant: -0.686 outputscale: 1.320\n",
      "Epoch 160/1500 - Negative Marginal Log Likelihood : -0.129 lengthscale: 0.624 constant: -0.694 outputscale: 1.339\n",
      "Epoch 170/1500 - Negative Marginal Log Likelihood : -0.130 lengthscale: 0.627 constant: -0.701 outputscale: 1.357\n",
      "Epoch 180/1500 - Negative Marginal Log Likelihood : -0.130 lengthscale: 0.630 constant: -0.707 outputscale: 1.373\n",
      "Epoch 190/1500 - Negative Marginal Log Likelihood : -0.130 lengthscale: 0.632 constant: -0.713 outputscale: 1.388\n",
      "Epoch 200/1500 - Negative Marginal Log Likelihood : -0.130 lengthscale: 0.635 constant: -0.719 outputscale: 1.402\n",
      "Epoch 210/1500 - Negative Marginal Log Likelihood : -0.131 lengthscale: 0.637 constant: -0.724 outputscale: 1.416\n",
      "Epoch 220/1500 - Negative Marginal Log Likelihood : -0.131 lengthscale: 0.639 constant: -0.728 outputscale: 1.428\n",
      "Epoch 230/1500 - Negative Marginal Log Likelihood : -0.131 lengthscale: 0.641 constant: -0.733 outputscale: 1.440\n",
      "Epoch 240/1500 - Negative Marginal Log Likelihood : -0.131 lengthscale: 0.643 constant: -0.736 outputscale: 1.450\n",
      "Epoch 250/1500 - Negative Marginal Log Likelihood : -0.131 lengthscale: 0.644 constant: -0.740 outputscale: 1.461\n",
      "Epoch 260/1500 - Negative Marginal Log Likelihood : -0.131 lengthscale: 0.646 constant: -0.743 outputscale: 1.470\n",
      "Epoch 270/1500 - Negative Marginal Log Likelihood : -0.131 lengthscale: 0.647 constant: -0.747 outputscale: 1.479\n",
      "Epoch 280/1500 - Negative Marginal Log Likelihood : -0.131 lengthscale: 0.648 constant: -0.749 outputscale: 1.488\n",
      "Epoch 290/1500 - Negative Marginal Log Likelihood : -0.131 lengthscale: 0.650 constant: -0.752 outputscale: 1.495\n",
      "Epoch 300/1500 - Negative Marginal Log Likelihood : -0.131 lengthscale: 0.651 constant: -0.755 outputscale: 1.503\n",
      "Epoch 310/1500 - Negative Marginal Log Likelihood : -0.131 lengthscale: 0.652 constant: -0.757 outputscale: 1.510\n",
      "Epoch 320/1500 - Negative Marginal Log Likelihood : -0.131 lengthscale: 0.653 constant: -0.759 outputscale: 1.516\n",
      "Epoch 330/1500 - Negative Marginal Log Likelihood : -0.132 lengthscale: 0.654 constant: -0.761 outputscale: 1.522\n",
      "Epoch 340/1500 - Negative Marginal Log Likelihood : -0.132 lengthscale: 0.655 constant: -0.763 outputscale: 1.528\n",
      "Epoch 350/1500 - Negative Marginal Log Likelihood : -0.132 lengthscale: 0.656 constant: -0.765 outputscale: 1.534\n",
      "Epoch 360/1500 - Negative Marginal Log Likelihood : -0.132 lengthscale: 0.656 constant: -0.767 outputscale: 1.539\n",
      "Epoch 370/1500 - Negative Marginal Log Likelihood : -0.132 lengthscale: 0.657 constant: -0.768 outputscale: 1.543\n",
      "Epoch 380/1500 - Negative Marginal Log Likelihood : -0.132 lengthscale: 0.658 constant: -0.770 outputscale: 1.548\n",
      "Epoch 390/1500 - Negative Marginal Log Likelihood : -0.132 lengthscale: 0.658 constant: -0.771 outputscale: 1.552\n",
      "Epoch 400/1500 - Negative Marginal Log Likelihood : -0.132 lengthscale: 0.659 constant: -0.772 outputscale: 1.556\n",
      "Epoch 410/1500 - Negative Marginal Log Likelihood : -0.132 lengthscale: 0.660 constant: -0.774 outputscale: 1.560\n",
      "Epoch 420/1500 - Negative Marginal Log Likelihood : -0.132 lengthscale: 0.660 constant: -0.775 outputscale: 1.563\n",
      "Epoch 430/1500 - Negative Marginal Log Likelihood : -0.132 lengthscale: 0.661 constant: -0.776 outputscale: 1.567\n",
      "Epoch 440/1500 - Negative Marginal Log Likelihood : -0.132 lengthscale: 0.661 constant: -0.777 outputscale: 1.570\n",
      "Epoch 450/1500 - Negative Marginal Log Likelihood : -0.132 lengthscale: 0.662 constant: -0.778 outputscale: 1.573\n",
      "Epoch 460/1500 - Negative Marginal Log Likelihood : -0.132 lengthscale: 0.662 constant: -0.779 outputscale: 1.576\n",
      "Epoch 470/1500 - Negative Marginal Log Likelihood : -0.132 lengthscale: 0.662 constant: -0.779 outputscale: 1.578\n",
      "Epoch 480/1500 - Negative Marginal Log Likelihood : -0.132 lengthscale: 0.663 constant: -0.780 outputscale: 1.581\n",
      "Epoch 490/1500 - Negative Marginal Log Likelihood : -0.132 lengthscale: 0.663 constant: -0.781 outputscale: 1.583\n",
      "Epoch 500/1500 - Negative Marginal Log Likelihood : -0.132 lengthscale: 0.663 constant: -0.782 outputscale: 1.585\n",
      "Epoch 510/1500 - Negative Marginal Log Likelihood : -0.132 lengthscale: 0.664 constant: -0.782 outputscale: 1.587\n",
      "Epoch 520/1500 - Negative Marginal Log Likelihood : -0.132 lengthscale: 0.664 constant: -0.783 outputscale: 1.589\n",
      "Epoch 530/1500 - Negative Marginal Log Likelihood : -0.132 lengthscale: 0.664 constant: -0.784 outputscale: 1.591\n",
      "Epoch 540/1500 - Negative Marginal Log Likelihood : -0.132 lengthscale: 0.664 constant: -0.784 outputscale: 1.593\n",
      "Epoch 550/1500 - Negative Marginal Log Likelihood : -0.132 lengthscale: 0.665 constant: -0.785 outputscale: 1.594\n",
      "Epoch 560/1500 - Negative Marginal Log Likelihood : -0.132 lengthscale: 0.665 constant: -0.785 outputscale: 1.596\n",
      "Epoch 570/1500 - Negative Marginal Log Likelihood : -0.132 lengthscale: 0.665 constant: -0.786 outputscale: 1.597\n",
      "Epoch 580/1500 - Negative Marginal Log Likelihood : -0.132 lengthscale: 0.665 constant: -0.786 outputscale: 1.599\n",
      "Epoch 590/1500 - Negative Marginal Log Likelihood : -0.132 lengthscale: 0.666 constant: -0.786 outputscale: 1.600\n",
      "Epoch 600/1500 - Negative Marginal Log Likelihood : -0.132 lengthscale: 0.666 constant: -0.787 outputscale: 1.601\n",
      "Epoch 610/1500 - Negative Marginal Log Likelihood : -0.132 lengthscale: 0.666 constant: -0.787 outputscale: 1.602\n",
      "Epoch 620/1500 - Negative Marginal Log Likelihood : -0.132 lengthscale: 0.666 constant: -0.788 outputscale: 1.603\n",
      "Epoch 630/1500 - Negative Marginal Log Likelihood : -0.132 lengthscale: 0.666 constant: -0.788 outputscale: 1.604\n",
      "Epoch 640/1500 - Negative Marginal Log Likelihood : -0.132 lengthscale: 0.666 constant: -0.788 outputscale: 1.605\n",
      "Epoch 650/1500 - Negative Marginal Log Likelihood : -0.132 lengthscale: 0.666 constant: -0.788 outputscale: 1.606\n",
      "Epoch 660/1500 - Negative Marginal Log Likelihood : -0.132 lengthscale: 0.667 constant: -0.789 outputscale: 1.607\n",
      "Epoch 670/1500 - Negative Marginal Log Likelihood : -0.132 lengthscale: 0.667 constant: -0.789 outputscale: 1.608\n",
      "Epoch 680/1500 - Negative Marginal Log Likelihood : -0.132 lengthscale: 0.667 constant: -0.789 outputscale: 1.609\n",
      "Epoch 690/1500 - Negative Marginal Log Likelihood : -0.132 lengthscale: 0.667 constant: -0.789 outputscale: 1.609\n",
      "Epoch 700/1500 - Negative Marginal Log Likelihood : -0.132 lengthscale: 0.667 constant: -0.790 outputscale: 1.610\n",
      "Epoch 710/1500 - Negative Marginal Log Likelihood : -0.132 lengthscale: 0.667 constant: -0.790 outputscale: 1.611\n",
      "Epoch 720/1500 - Negative Marginal Log Likelihood : -0.132 lengthscale: 0.667 constant: -0.790 outputscale: 1.611\n",
      "Epoch 730/1500 - Negative Marginal Log Likelihood : -0.132 lengthscale: 0.667 constant: -0.790 outputscale: 1.612\n",
      "Epoch 740/1500 - Negative Marginal Log Likelihood : -0.132 lengthscale: 0.667 constant: -0.790 outputscale: 1.613\n"
     ]
    },
    {
     "name": "stdout",
     "output_type": "stream",
     "text": [
      "Epoch 750/1500 - Negative Marginal Log Likelihood : -0.132 lengthscale: 0.667 constant: -0.791 outputscale: 1.613\n",
      "Epoch 760/1500 - Negative Marginal Log Likelihood : -0.132 lengthscale: 0.668 constant: -0.791 outputscale: 1.614\n",
      "Epoch 770/1500 - Negative Marginal Log Likelihood : -0.132 lengthscale: 0.668 constant: -0.791 outputscale: 1.614\n",
      "Epoch 780/1500 - Negative Marginal Log Likelihood : -0.132 lengthscale: 0.668 constant: -0.791 outputscale: 1.614\n",
      "Epoch 790/1500 - Negative Marginal Log Likelihood : -0.132 lengthscale: 0.668 constant: -0.791 outputscale: 1.615\n",
      "Epoch 800/1500 - Negative Marginal Log Likelihood : -0.132 lengthscale: 0.668 constant: -0.791 outputscale: 1.615\n",
      "Epoch 810/1500 - Negative Marginal Log Likelihood : -0.132 lengthscale: 0.668 constant: -0.791 outputscale: 1.616\n",
      "Epoch 820/1500 - Negative Marginal Log Likelihood : -0.132 lengthscale: 0.668 constant: -0.791 outputscale: 1.616\n",
      "Epoch 830/1500 - Negative Marginal Log Likelihood : -0.132 lengthscale: 0.668 constant: -0.792 outputscale: 1.616\n",
      "Epoch 840/1500 - Negative Marginal Log Likelihood : -0.132 lengthscale: 0.668 constant: -0.792 outputscale: 1.617\n",
      "Epoch 850/1500 - Negative Marginal Log Likelihood : -0.132 lengthscale: 0.668 constant: -0.792 outputscale: 1.617\n",
      "Epoch 860/1500 - Negative Marginal Log Likelihood : -0.132 lengthscale: 0.668 constant: -0.792 outputscale: 1.617\n",
      "Epoch 870/1500 - Negative Marginal Log Likelihood : -0.132 lengthscale: 0.668 constant: -0.792 outputscale: 1.617\n",
      "Epoch 880/1500 - Negative Marginal Log Likelihood : -0.132 lengthscale: 0.668 constant: -0.792 outputscale: 1.618\n",
      "Epoch 890/1500 - Negative Marginal Log Likelihood : -0.132 lengthscale: 0.668 constant: -0.792 outputscale: 1.618\n",
      "Epoch 900/1500 - Negative Marginal Log Likelihood : -0.132 lengthscale: 0.668 constant: -0.792 outputscale: 1.618\n",
      "Epoch 910/1500 - Negative Marginal Log Likelihood : -0.132 lengthscale: 0.668 constant: -0.792 outputscale: 1.618\n",
      "Epoch 920/1500 - Negative Marginal Log Likelihood : -0.132 lengthscale: 0.668 constant: -0.792 outputscale: 1.618\n",
      "Epoch 930/1500 - Negative Marginal Log Likelihood : -0.132 lengthscale: 0.668 constant: -0.792 outputscale: 1.619\n",
      "Epoch 940/1500 - Negative Marginal Log Likelihood : -0.132 lengthscale: 0.668 constant: -0.792 outputscale: 1.619\n",
      "Epoch 950/1500 - Negative Marginal Log Likelihood : -0.132 lengthscale: 0.668 constant: -0.792 outputscale: 1.619\n",
      "Epoch 960/1500 - Negative Marginal Log Likelihood : -0.132 lengthscale: 0.668 constant: -0.792 outputscale: 1.619\n",
      "Epoch 970/1500 - Negative Marginal Log Likelihood : -0.132 lengthscale: 0.668 constant: -0.793 outputscale: 1.619\n",
      "Epoch 980/1500 - Negative Marginal Log Likelihood : -0.132 lengthscale: 0.668 constant: -0.793 outputscale: 1.619\n",
      "Epoch 990/1500 - Negative Marginal Log Likelihood : -0.132 lengthscale: 0.668 constant: -0.793 outputscale: 1.619\n",
      "Epoch 1000/1500 - Negative Marginal Log Likelihood : -0.132 lengthscale: 0.668 constant: -0.793 outputscale: 1.620\n",
      "Epoch 1010/1500 - Negative Marginal Log Likelihood : -0.132 lengthscale: 0.668 constant: -0.793 outputscale: 1.620\n",
      "Epoch 1020/1500 - Negative Marginal Log Likelihood : -0.132 lengthscale: 0.668 constant: -0.793 outputscale: 1.620\n",
      "Epoch 1030/1500 - Negative Marginal Log Likelihood : -0.132 lengthscale: 0.668 constant: -0.793 outputscale: 1.620\n",
      "Epoch 1040/1500 - Negative Marginal Log Likelihood : -0.132 lengthscale: 0.668 constant: -0.793 outputscale: 1.620\n",
      "Epoch 1050/1500 - Negative Marginal Log Likelihood : -0.132 lengthscale: 0.669 constant: -0.793 outputscale: 1.620\n",
      "Epoch 1060/1500 - Negative Marginal Log Likelihood : -0.132 lengthscale: 0.669 constant: -0.793 outputscale: 1.620\n",
      "Epoch 1070/1500 - Negative Marginal Log Likelihood : -0.132 lengthscale: 0.669 constant: -0.793 outputscale: 1.620\n",
      "Epoch 1080/1500 - Negative Marginal Log Likelihood : -0.132 lengthscale: 0.669 constant: -0.793 outputscale: 1.620\n",
      "Epoch 1090/1500 - Negative Marginal Log Likelihood : -0.132 lengthscale: 0.669 constant: -0.793 outputscale: 1.620\n",
      "Epoch 1100/1500 - Negative Marginal Log Likelihood : -0.132 lengthscale: 0.669 constant: -0.793 outputscale: 1.620\n",
      "Epoch 1110/1500 - Negative Marginal Log Likelihood : -0.132 lengthscale: 0.669 constant: -0.793 outputscale: 1.621\n",
      "Epoch 1120/1500 - Negative Marginal Log Likelihood : -0.132 lengthscale: 0.669 constant: -0.793 outputscale: 1.621\n",
      "Epoch 1130/1500 - Negative Marginal Log Likelihood : -0.132 lengthscale: 0.669 constant: -0.793 outputscale: 1.621\n",
      "Epoch 1140/1500 - Negative Marginal Log Likelihood : -0.132 lengthscale: 0.669 constant: -0.793 outputscale: 1.621\n",
      "Epoch 1150/1500 - Negative Marginal Log Likelihood : -0.132 lengthscale: 0.669 constant: -0.793 outputscale: 1.621\n",
      "Epoch 1160/1500 - Negative Marginal Log Likelihood : -0.132 lengthscale: 0.669 constant: -0.793 outputscale: 1.621\n",
      "Epoch 1170/1500 - Negative Marginal Log Likelihood : -0.132 lengthscale: 0.669 constant: -0.793 outputscale: 1.621\n",
      "Epoch 1180/1500 - Negative Marginal Log Likelihood : -0.132 lengthscale: 0.669 constant: -0.793 outputscale: 1.621\n",
      "Epoch 1190/1500 - Negative Marginal Log Likelihood : -0.132 lengthscale: 0.669 constant: -0.793 outputscale: 1.621\n",
      "Epoch 1200/1500 - Negative Marginal Log Likelihood : -0.132 lengthscale: 0.669 constant: -0.793 outputscale: 1.621\n",
      "Epoch 1210/1500 - Negative Marginal Log Likelihood : -0.132 lengthscale: 0.669 constant: -0.793 outputscale: 1.621\n",
      "Epoch 1220/1500 - Negative Marginal Log Likelihood : -0.132 lengthscale: 0.669 constant: -0.793 outputscale: 1.621\n",
      "Epoch 1230/1500 - Negative Marginal Log Likelihood : -0.132 lengthscale: 0.669 constant: -0.793 outputscale: 1.621\n",
      "Epoch 1240/1500 - Negative Marginal Log Likelihood : -0.132 lengthscale: 0.669 constant: -0.793 outputscale: 1.621\n",
      "Epoch 1250/1500 - Negative Marginal Log Likelihood : -0.132 lengthscale: 0.669 constant: -0.793 outputscale: 1.621\n",
      "Epoch 1260/1500 - Negative Marginal Log Likelihood : -0.132 lengthscale: 0.669 constant: -0.793 outputscale: 1.621\n",
      "Epoch 1270/1500 - Negative Marginal Log Likelihood : -0.132 lengthscale: 0.669 constant: -0.793 outputscale: 1.621\n",
      "Epoch 1280/1500 - Negative Marginal Log Likelihood : -0.132 lengthscale: 0.669 constant: -0.793 outputscale: 1.621\n",
      "Epoch 1290/1500 - Negative Marginal Log Likelihood : -0.132 lengthscale: 0.669 constant: -0.793 outputscale: 1.621\n",
      "Epoch 1300/1500 - Negative Marginal Log Likelihood : -0.132 lengthscale: 0.669 constant: -0.793 outputscale: 1.621\n",
      "Epoch 1310/1500 - Negative Marginal Log Likelihood : -0.132 lengthscale: 0.669 constant: -0.793 outputscale: 1.621\n",
      "Epoch 1320/1500 - Negative Marginal Log Likelihood : -0.132 lengthscale: 0.669 constant: -0.793 outputscale: 1.621\n",
      "Epoch 1330/1500 - Negative Marginal Log Likelihood : -0.132 lengthscale: 0.669 constant: -0.793 outputscale: 1.621\n",
      "Epoch 1340/1500 - Negative Marginal Log Likelihood : -0.132 lengthscale: 0.669 constant: -0.793 outputscale: 1.621\n",
      "Epoch 1350/1500 - Negative Marginal Log Likelihood : -0.132 lengthscale: 0.669 constant: -0.793 outputscale: 1.621\n",
      "Epoch 1360/1500 - Negative Marginal Log Likelihood : -0.132 lengthscale: 0.669 constant: -0.793 outputscale: 1.621\n",
      "Epoch 1370/1500 - Negative Marginal Log Likelihood : -0.132 lengthscale: 0.669 constant: -0.793 outputscale: 1.621\n",
      "Epoch 1380/1500 - Negative Marginal Log Likelihood : -0.132 lengthscale: 0.669 constant: -0.793 outputscale: 1.621\n",
      "Epoch 1390/1500 - Negative Marginal Log Likelihood : -0.132 lengthscale: 0.669 constant: -0.793 outputscale: 1.621\n",
      "Epoch 1400/1500 - Negative Marginal Log Likelihood : -0.132 lengthscale: 0.669 constant: -0.793 outputscale: 1.621\n",
      "Epoch 1410/1500 - Negative Marginal Log Likelihood : -0.132 lengthscale: 0.669 constant: -0.793 outputscale: 1.621\n",
      "Epoch 1420/1500 - Negative Marginal Log Likelihood : -0.132 lengthscale: 0.669 constant: -0.793 outputscale: 1.621\n",
      "Epoch 1430/1500 - Negative Marginal Log Likelihood : -0.132 lengthscale: 0.669 constant: -0.793 outputscale: 1.621\n",
      "Epoch 1440/1500 - Negative Marginal Log Likelihood : -0.132 lengthscale: 0.669 constant: -0.793 outputscale: 1.621\n",
      "Epoch 1450/1500 - Negative Marginal Log Likelihood : -0.132 lengthscale: 0.669 constant: -0.793 outputscale: 1.621\n",
      "Epoch 1460/1500 - Negative Marginal Log Likelihood : -0.132 lengthscale: 0.669 constant: -0.793 outputscale: 1.622\n",
      "Epoch 1470/1500 - Negative Marginal Log Likelihood : -0.132 lengthscale: 0.669 constant: -0.793 outputscale: 1.622\n",
      "Epoch 1480/1500 - Negative Marginal Log Likelihood : -0.132 lengthscale: 0.669 constant: -0.793 outputscale: 1.622\n",
      "Epoch 1490/1500 - Negative Marginal Log Likelihood : -0.132 lengthscale: 0.669 constant: -0.793 outputscale: 1.622\n",
      "Epoch 1500/1500 - Negative Marginal Log Likelihood : -0.132 lengthscale: 0.669 constant: -0.793 outputscale: 1.622\n"
     ]
    }
   ],
   "source": [
    "NUM_EPOCHS = 1500\n",
    "\n",
    "model.train()\n",
    "\n",
    "for epoch in range(NUM_EPOCHS):\n",
    "    # clear gradients\n",
    "    optimizer.zero_grad()\n",
    "    # forward pass through the model to obtain the output MultivariateNormal\n",
    "    output = model(train_x)\n",
    "    # Compute the negative marginal log likelihood\n",
    "    loss = - mll(output, model.train_targets)\n",
    "    # Use backward propagation to update the model's \n",
    "    loss.backward()\n",
    "    # print every 10 iterations\n",
    "    if (epoch + 1) % 10 == 0:\n",
    "        print(\n",
    "            f\"Epoch {epoch+1:>3}/{NUM_EPOCHS} - Negative Marginal Log Likelihood : {loss.item():>4.3f} \"\n",
    "            f\"lengthscale: {model.covar_module.base_kernel.lengthscale.item():>4.3f} \" \n",
    "            f\"constant: {model.mean_module.constant.item():>4.3f} \"\n",
    "            f\"outputscale: {model.covar_module.outputscale.item():>4.3f}\" \n",
    "         )\n",
    "    optimizer.step()"
   ]
  },
  {
   "cell_type": "code",
   "execution_count": 24,
   "metadata": {},
   "outputs": [
    {
     "data": {
      "text/plain": [
       "SingleTaskGP(\n",
       "  (likelihood): FixedNoiseGaussianLikelihood(\n",
       "    (noise_covar): FixedGaussianNoise()\n",
       "  )\n",
       "  (mean_module): ConstantMean()\n",
       "  (covar_module): ScaleKernel(\n",
       "    (base_kernel): MaternKernel(\n",
       "      (lengthscale_prior): GammaPrior()\n",
       "      (raw_lengthscale_constraint): Positive()\n",
       "      (distance_module): Distance()\n",
       "    )\n",
       "    (outputscale_prior): GammaPrior()\n",
       "    (raw_outputscale_constraint): Positive()\n",
       "  )\n",
       ")"
      ]
     },
     "execution_count": 24,
     "metadata": {},
     "output_type": "execute_result"
    }
   ],
   "source": [
    "# set model (and likelihood)\n",
    "model.eval()"
   ]
  },
  {
   "cell_type": "code",
   "execution_count": 25,
   "metadata": {},
   "outputs": [
    {
     "name": "stdout",
     "output_type": "stream",
     "text": [
      "lengthscale: 0.669 constant: -0.793 outputscale: 1.622 nu:  1.5\n"
     ]
    },
    {
     "data": {
      "image/png": "[encoded data removed]",
      "text/plain": [
       "<Figure size 432x288 with 1 Axes>"
      ]
     },
     "metadata": {
      "needs_background": "light"
     },
     "output_type": "display_data"
    }
   ],
   "source": [
    "plot_posterior(model)\n",
    "print(\n",
    "    f\"lengthscale: {model.covar_module.base_kernel.lengthscale.item():>4.3f} \" \n",
    "    f\"constant: {model.mean_module.constant.item():>4.3f} \"\n",
    "    f\"outputscale: {model.covar_module.outputscale.item():>4.3f} \" \n",
    "    f\"nu: {model.covar_module.base_kernel.nu:>4.1f}\"\n",
    ")"
   ]
  },
  {
   "cell_type": "markdown",
   "metadata": {},
   "source": [
    "### A faster way to set the hyperparameters\n",
    "This uses a BoTorch helper function, `fit_gpytorch_model`, that isn't in gpytorch"
   ]
  },
  {
   "cell_type": "code",
   "execution_count": 26,
   "metadata": {},
   "outputs": [
    {
     "data": {
      "text/plain": [
       "ExactMarginalLogLikelihood(\n",
       "  (likelihood): FixedNoiseGaussianLikelihood(\n",
       "    (noise_covar): FixedGaussianNoise()\n",
       "  )\n",
       "  (model): SingleTaskGP(\n",
       "    (likelihood): FixedNoiseGaussianLikelihood(\n",
       "      (noise_covar): FixedGaussianNoise()\n",
       "    )\n",
       "    (mean_module): ConstantMean()\n",
       "    (covar_module): ScaleKernel(\n",
       "      (base_kernel): MaternKernel(\n",
       "        (lengthscale_prior): GammaPrior()\n",
       "        (raw_lengthscale_constraint): Positive()\n",
       "        (distance_module): Distance()\n",
       "      )\n",
       "      (outputscale_prior): GammaPrior()\n",
       "      (raw_outputscale_constraint): Positive()\n",
       "    )\n",
       "  )\n",
       ")"
      ]
     },
     "execution_count": 26,
     "metadata": {},
     "output_type": "execute_result"
    }
   ],
   "source": [
    "from botorch.fit import fit_gpytorch_model\n",
    "model = SingleTaskGP(train_x, train_y, likelihood = FixedNoiseGaussianLikelihood(noise=noises))\n",
    "model.covar_module.base_kernel.nu = 1.5\n",
    "mll = ExactMarginalLogLikelihood(model.likelihood, model)\n",
    "fit_gpytorch_model(mll) # This chooses the hyperparameters to maximize the log marginal likelihood"
   ]
  },
  {
   "cell_type": "code",
   "execution_count": 27,
   "metadata": {},
   "outputs": [
    {
     "name": "stdout",
     "output_type": "stream",
     "text": [
      "lengthscale: 0.669 constant: -0.793 outputscale: 1.622 nu:  1.5\n"
     ]
    },
    {
     "data": {
      "image/png": "[encoded data removed]",
      "text/plain": [
       "<Figure size 432x288 with 1 Axes>"
      ]
     },
     "metadata": {
      "needs_background": "light"
     },
     "output_type": "display_data"
    }
   ],
   "source": [
    "plot_posterior(model)\n",
    "print(\n",
    "    f\"lengthscale: {model.covar_module.base_kernel.lengthscale.item():>4.3f} \" \n",
    "    f\"constant: {model.mean_module.constant.item():>4.3f} \"\n",
    "    f\"outputscale: {model.covar_module.outputscale.item():>4.3f} \" \n",
    "    f\"nu: {model.covar_module.base_kernel.nu:>4.1f}\"\n",
    ")"
   ]
  },
  {
   "cell_type": "markdown",
   "metadata": {},
   "source": [
    "# Cross-validation\n",
    "The following code shows how to make the same cross-validation plots that we made in Tutorial 1 to check for model fit, but using BoTorch."
   ]
  },
  {
   "cell_type": "code",
   "execution_count": 28,
   "metadata": {},
   "outputs": [],
   "source": [
    "# Helper function for cross-validation\n",
    "def remove(T,i):\n",
    "    # Remove the ith component from the 1-dimensional tensor T\n",
    "    assert(i<len(T))\n",
    "    return torch.cat([T[:i], T[i+1:]])\n",
    "\n",
    "# Check that we handle the two corner cases where i is 0 or len-1\n",
    "assert(len(remove(train_x,0))==9)\n",
    "assert(len(remove(train_x,len(train_x)-1))==9)\n",
    "assert(len(remove(train_x,5))==9)"
   ]
  },
  {
   "cell_type": "code",
   "execution_count": 29,
   "metadata": {},
   "outputs": [
    {
     "data": {
      "text/plain": [
       "tensor([[ 7.1864e-04],\n",
       "        [ 7.9687e-01],\n",
       "        [ 9.2087e-01],\n",
       "        [ 9.4643e-01],\n",
       "        [ 8.2510e-01],\n",
       "        [ 6.0409e-01],\n",
       "        [ 4.9807e-01],\n",
       "        [-2.4148e-01],\n",
       "        [-9.8267e-01]], dtype=torch.float64)"
      ]
     },
     "execution_count": 29,
     "metadata": {},
     "output_type": "execute_result"
    }
   ],
   "source": [
    "# Example of the helper function\n",
    "remove(train_y,1)"
   ]
  },
  {
   "cell_type": "code",
   "execution_count": 30,
   "metadata": {},
   "outputs": [],
   "source": [
    "def cross_validation(train_x,train_y,nu=1.5):\n",
    "    loo_mean = []\n",
    "    loo_sdev = []\n",
    "\n",
    "    for i in range(len(train_x)):\n",
    "        \n",
    "        # Remove the ith datapoint from the training set\n",
    "        loo_train_x = remove(train_x,i)\n",
    "        loo_train_y = remove(train_y,i)\n",
    "        noisefree_variance = 0.0001\n",
    "        noises = torch.ones(len(loo_train_y)) * noisefree_variance\n",
    "            \n",
    "        model = SingleTaskGP(loo_train_x, loo_train_y, likelihood = FixedNoiseGaussianLikelihood(noise=noises))\n",
    "        model.covar_module.base_kernel.nu = nu\n",
    "        mll = ExactMarginalLogLikelihood(model.likelihood, model)\n",
    "        fit_gpytorch_model(mll) \n",
    "    \n",
    "        posterior = model.posterior(train_x[i].unsqueeze(0))\n",
    "        # the posterior mean and variance are 2-d 1x1 tensors.  \n",
    "        # We just need to pull out the single number inside each, which is at index [0][0]\n",
    "        m = posterior.mean.cpu().detach().numpy()[0][0]\n",
    "        v = posterior.variance.cpu().detach().numpy()[0][0]\n",
    "        \n",
    "        loo_mean.append(m)\n",
    "        loo_sdev.append(np.sqrt(v))\n",
    "    \n",
    "    fig, ax = plt.subplots()\n",
    "    train_y_np = train_y.cpu().numpy()[:,0]\n",
    "\n",
    "    ax.errorbar(train_y_np,loo_mean,loo_sdev,fmt='o')\n",
    "    ax.plot([min(train_y_np),max(train_y_np)],[min(train_y_np),max(train_y_np)],'k--')\n",
    "    plt.xlabel('observed y')\n",
    "    plt.ylabel('predicted y')"
   ]
  },
  {
   "cell_type": "code",
   "execution_count": 31,
   "metadata": {},
   "outputs": [
    {
     "data": {
      "image/png": "[encoded data removed]",
      "text/plain": [
       "<Figure size 432x288 with 1 Axes>"
      ]
     },
     "metadata": {
      "needs_background": "light"
     },
     "output_type": "display_data"
    }
   ],
   "source": [
    "cross_validation(train_x,train_y)"
   ]
  },
  {
   "cell_type": "markdown",
   "metadata": {},
   "source": [
    "We want to see that the error bar crosses the dashed line for most of the datapoints (95% of the datapoints), and when it misses it shouldn't miss by too much.  This plot looks pretty good."
   ]
  },
  {
   "cell_type": "markdown",
   "metadata": {
    "collapsed": true
   },
   "source": [
    "#### Exercise 2 \n",
    "    \n",
    "Using the function below (which is -1 times a standard test function called Hartmann6),\n",
    "and the 50 training points generated below (uniformly over the unit cube),\n",
    "fit GP regression using a Matern kernel with nu=.5 and no noise in the observations,\n",
    "Choose the hyperparameters by maximizing the log marginal likelihood.\n",
    "\n",
    "Then plot a cross-validation plot.  You'll see that it looks ok, but some errobars are far from touching the line.  Based on this plot we might want consider another kernel or transforming the objective."
   ]
  },
  {
   "cell_type": "code",
   "execution_count": 32,
   "metadata": {},
   "outputs": [],
   "source": [
    "from botorch.test_functions import Hartmann\n",
    "f = Hartmann(negate=True)\n",
    "\n",
    "np.random.seed(1)\n",
    "torch.manual_seed(1)\n",
    "train_x = torch.rand(50, 6, device=device, dtype=dtype)\n",
    "train_y = f(train_x).unsqueeze(-1)  # add output dimension"
   ]
  },
  {
   "cell_type": "markdown",
   "metadata": {},
   "source": [
    "#### Exercise 2 Solution"
   ]
  },
  {
   "cell_type": "code",
   "execution_count": 33,
   "metadata": {},
   "outputs": [
    {
     "data": {
      "text/plain": [
       "ExactMarginalLogLikelihood(\n",
       "  (likelihood): FixedNoiseGaussianLikelihood(\n",
       "    (noise_covar): FixedGaussianNoise()\n",
       "  )\n",
       "  (model): SingleTaskGP(\n",
       "    (likelihood): FixedNoiseGaussianLikelihood(\n",
       "      (noise_covar): FixedGaussianNoise()\n",
       "    )\n",
       "    (mean_module): ConstantMean()\n",
       "    (covar_module): ScaleKernel(\n",
       "      (base_kernel): MaternKernel(\n",
       "        (lengthscale_prior): GammaPrior()\n",
       "        (raw_lengthscale_constraint): Positive()\n",
       "        (distance_module): Distance()\n",
       "      )\n",
       "      (outputscale_prior): GammaPrior()\n",
       "      (raw_outputscale_constraint): Positive()\n",
       "    )\n",
       "  )\n",
       ")"
      ]
     },
     "execution_count": 33,
     "metadata": {},
     "output_type": "execute_result"
    }
   ],
   "source": [
    "noisefree_variance = 0.0001\n",
    "noises = torch.ones(len(train_y)) * noisefree_variance\n",
    "model = SingleTaskGP(train_x, train_y, likelihood = FixedNoiseGaussianLikelihood(noise=noises))\n",
    "model.covar_module.base_kernel.nu = .5\n",
    "mll = ExactMarginalLogLikelihood(model.likelihood, model)\n",
    "fit_gpytorch_model(mll)"
   ]
  },
  {
   "cell_type": "code",
   "execution_count": 34,
   "metadata": {},
   "outputs": [
    {
     "data": {
      "image/png": "[encoded data removed]",
      "text/plain": [
       "<Figure size 432x288 with 1 Axes>"
      ]
     },
     "metadata": {
      "needs_background": "light"
     },
     "output_type": "display_data"
    }
   ],
   "source": [
    "cross_validation(train_x,train_y,0.5) # Remember to pass nu=0.5"
   ]
  },
  {
   "cell_type": "code",
   "execution_count": null,
   "metadata": {},
   "outputs": [],
   "source": []
  }
 ],
 "metadata": {
  "kernelspec": {
   "display_name": "Python 2",
   "language": "python",
   "name": "python2"
  },
  "language_info": {
   "codemirror_mode": {
    "name": "ipython",
    "version": 3
   },
   "file_extension": ".py",
   "mimetype": "text/x-python",
   "name": "python",
   "nbconvert_exporter": "python",
   "pygments_lexer": "ipython3",
   "version": "3.7.4"
  }
 },
 "nbformat": 4,
 "nbformat_minor": 1
}
